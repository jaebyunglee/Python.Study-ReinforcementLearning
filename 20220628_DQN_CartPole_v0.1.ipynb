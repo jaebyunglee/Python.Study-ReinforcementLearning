{
 "cells": [
  {
   "cell_type": "code",
   "execution_count": 1,
   "metadata": {},
   "outputs": [],
   "source": [
    "import os\n",
    "import gym\n",
    "import pylab\n",
    "import random\n",
    "import warnings\n",
    "import numpy as np\n",
    "import seaborn as sns\n",
    "import tensorflow as tf\n",
    "import matplotlib.pyplot as plt"
   ]
  },
  {
   "cell_type": "code",
   "execution_count": 2,
   "metadata": {},
   "outputs": [],
   "source": [
    "from tensorflow.keras import Sequential\n",
    "from tensorflow.keras.layers import Dense\n",
    "from tqdm.auto import tqdm\n",
    "from collections import deque"
   ]
  },
  {
   "cell_type": "code",
   "execution_count": 3,
   "metadata": {},
   "outputs": [],
   "source": [
    "warnings.filterwarnings(action='ignore')"
   ]
  },
  {
   "cell_type": "code",
   "execution_count": 4,
   "metadata": {},
   "outputs": [
    {
     "name": "stdout",
     "output_type": "stream",
     "text": [
      "State space:  Box([-4.8000002e+00 -3.4028235e+38 -4.1887903e-01 -3.4028235e+38], [4.8000002e+00 3.4028235e+38 4.1887903e-01 3.4028235e+38], (4,), float32)\n",
      "Initial state:  [-0.00011524  0.02978837  0.00750123  0.03458011]\n",
      "\n",
      "Action space:  Discrete(2)\n",
      "Random action:  0\n"
     ]
    }
   ],
   "source": [
    "#\n",
    "# Environment\n",
    "#\n",
    "env = gym.make('CartPole-v1')\n",
    "state = env.reset()\n",
    "action = env.action_space.sample()\n",
    "\n",
    "print('State space: ', env.observation_space)\n",
    "print('Initial state: ', state)\n",
    "print('\\nAction space: ', env.action_space)\n",
    "print('Random action: ', action)"
   ]
  },
  {
   "cell_type": "code",
   "execution_count": 5,
   "metadata": {},
   "outputs": [],
   "source": [
    "# Q - Network 생성 Class\n",
    "class Q_NetWork() :\n",
    "    def __init__(self, num_state, num_action, learning_rate) :\n",
    "        self.num_state = num_state\n",
    "        self.num_action = num_action\n",
    "        \n",
    "    def build(self):\n",
    "        self.input_layer = tf.keras.Input(shape = self.num_state, name = \"input\")\n",
    "        self.dense_layer = tf.keras.layers.Dense(units = 32, activation='relu')(self.input_layer)\n",
    "        self.dense_layer = tf.keras.layers.Dense(units = 32, activation='relu')(self.dense_layer)\n",
    "        self.output_layer = tf.keras.layers.Dense(units = self.num_action,  # 마지막 층의 가중치를 작은 범위안에서 초기화 하는 것 중요\n",
    "                                                  kernel_initializer=tf.keras.initializers.RandomUniform(-1e-3, 1e-3))(self.dense_layer)\n",
    "        self.model = tf.keras.Model(self.input_layer, self.output_layer)  \n",
    "        self.optim = tf.keras.optimizers.Adam(learning_rate = learning_rate)\n",
    "        self.model.compile(optimizer = self.optim, loss = 'mse')\n",
    "        \n",
    "    # custom loss\n",
    "    def loss(y_true, y_pred):\n",
    "        mean = tf.reduce_mean(abs(y_true - y_pred)**2)\n",
    "        std  = 1/(tf.math.reduce_std(y_pred) + 1/mean)\n",
    "        return mean + std**2    "
   ]
  },
  {
   "cell_type": "code",
   "execution_count": 6,
   "metadata": {},
   "outputs": [],
   "source": [
    "# Parameter Setting\n",
    "num_state       = 4\n",
    "num_action      = 2\n",
    "discount_factor = 0.99\n",
    "learning_rate   = 0.001\n",
    "epsilon         = 1\n",
    "epsilon_decay   = 0.999\n",
    "epsilon_min     = 0.01\n",
    "batch_size      = 64\n",
    "train_start     = 1000"
   ]
  },
  {
   "cell_type": "code",
   "execution_count": 7,
   "metadata": {},
   "outputs": [],
   "source": [
    "# Set Max Memory 2000 -> First In, First Out 방식으로 저장됨\n",
    "memory = deque(maxlen = 2000)"
   ]
  },
  {
   "cell_type": "code",
   "execution_count": 8,
   "metadata": {},
   "outputs": [
    {
     "data": {
      "text/plain": [
       "[1.0, 1.0, 1.0, 1.0, 1.0, 1.0]"
      ]
     },
     "execution_count": 8,
     "metadata": {},
     "output_type": "execute_result"
    }
   ],
   "source": [
    "# Q - NetWork Model 생성\n",
    "model = Q_NetWork(num_state, num_action, learning_rate)\n",
    "model.build()\n",
    "\n",
    "# Target Model 생성\n",
    "target_model = Q_NetWork(num_state, num_action, learning_rate)\n",
    "target_model.build()\n",
    "\n",
    "# model과 target_model의 weight 동일하게 지정(모델 생성기 가중치가 무작위로 초기화 되기 떄문에 같지 않음)\n",
    "target_model.model.set_weights(model.model.get_weights())\n",
    "\n",
    "# Weight가 동일하게 지정 되었는지 체크\n",
    "[np.mean(model.model.get_weights()[s] == target_model.model.get_weights()[s]) for s in range(len(model.model.get_weights()))]"
   ]
  },
  {
   "cell_type": "code",
   "execution_count": 9,
   "metadata": {},
   "outputs": [],
   "source": [
    "# 에피소드 수\n",
    "num_episode = 200\n",
    "\n",
    "# 점수 저장 \n",
    "scores, episodes = [], []\n",
    "score_avg = 0"
   ]
  },
  {
   "cell_type": "code",
   "execution_count": 10,
   "metadata": {},
   "outputs": [
    {
     "data": {
      "application/vnd.jupyter.widget-view+json": {
       "model_id": "814a5c944610492aa41e86d26b674288",
       "version_major": 2,
       "version_minor": 0
      },
      "text/plain": [
       "HBox(children=(FloatProgress(value=0.0, max=200.0), HTML(value='')))"
      ]
     },
     "metadata": {},
     "output_type": "display_data"
    },
    {
     "name": "stdout",
     "output_type": "stream",
     "text": [
      "episode : 20 / score avg : 23.74 / memory length : 458 / epsilon : 1.0000\n",
      "episode : 40 / score avg : 23.17 / memory length : 955 / epsilon : 1.0000\n",
      "episode : 60 / score avg : 45.26 / memory length : 1715 / epsilon : 0.4890\n",
      "episode : 80 / score avg : 287.31 / memory length : 2000 / epsilon : 0.0100\n",
      "episode : 100 / score avg : 415.98 / memory length : 2000 / epsilon : 0.0100\n",
      "episode : 120 / score avg : 485.25 / memory length : 2000 / epsilon : 0.0100\n",
      "episode : 140 / score avg : 480.29 / memory length : 2000 / epsilon : 0.0100\n",
      "episode : 160 / score avg : 469.04 / memory length : 2000 / epsilon : 0.0100\n",
      "episode : 180 / score avg : 470.63 / memory length : 2000 / epsilon : 0.0100\n",
      "episode : 200 / score avg : 482.91 / memory length : 2000 / epsilon : 0.0100\n",
      "\n"
     ]
    }
   ],
   "source": [
    "for e in tqdm(range(num_episode)) :\n",
    "    done = False # 해당 에피소드에서 게임 종료 여부\n",
    "    score = 0\n",
    "    \n",
    "    # env 초기화\n",
    "    state = env.reset() # Random State\n",
    "    state = state.reshape(-1 , num_state)\n",
    "    \n",
    "    while not done :\n",
    "        \n",
    "        # 입실론 탐욕 정책으로 행동 선택\n",
    "        if np.random.rand() <= epsilon :\n",
    "            action = env.action_space.sample() # 랜덤하게 Action\n",
    "        else :\n",
    "            q_value = model.model.predict(state.reshape(-1 , num_state)) # Max Q Value 방향으로 Action\n",
    "            action = np.argmax(q_value)\n",
    "\n",
    "        # 선택한 action으로 한 타임스텝 진행    \n",
    "        next_state, reward, done, info = env.step(action)    \n",
    "        next_state = next_state.reshape(-1, num_state)\n",
    "\n",
    "        score += reward\n",
    "\n",
    "        # 각 스텝 마다 reward 0.1\n",
    "        # 500 전에 쓰러지게 되면 reward -1\n",
    "        reward = 0.1 if not done or score == 500 else -1\n",
    "\n",
    "        # 리플레이 메모리에 샘플 <s,a,r,s'> 저장\n",
    "        memory.append((state, action, reward, next_state, done))\n",
    "\n",
    "        state = next_state\n",
    "\n",
    "\n",
    "        # ===============================================\n",
    "        # Q - NetWork Model Train\n",
    "        # ===============================================\n",
    "\n",
    "        # Memory에 데이터가 일정량 이상 생기면 모델 학습 \n",
    "        # Memory가 일정량 미만이면 다음 에피소드에서 데이터 생성해서 학습 진행\n",
    "        if len(memory) > train_start :\n",
    "\n",
    "            # epsilon을 점차 줄여감\n",
    "            if epsilon > epsilon_min :\n",
    "                epsilon *= epsilon_decay\n",
    "\n",
    "            # Mini Batch 생성\n",
    "            mini_batch = random.sample(memory, batch_size)\n",
    "\n",
    "            states      = np.array([sample[0][0] for sample in mini_batch])\n",
    "            actions     = np.array([sample[1]    for sample in mini_batch])\n",
    "            rewards     = np.array([sample[2]    for sample in mini_batch])\n",
    "            next_states = np.array([sample[3][0] for sample in mini_batch])\n",
    "            dones       = np.array([sample[4]    for sample in mini_batch])\n",
    "\n",
    "            # >> 이 부분을 잘 이해해 보자 Start <<\n",
    "            # target y 생성 =====================================\n",
    "            target_f       = target_model.model.predict(next_states)              # Next States 에서 얻을 수 있는 Q - Value\n",
    "            max_q          = [np.max(target_f[s]) for s in range(len(target_f))] # Q - Value Max 값 추출\n",
    "            update_val     = rewards + (1-dones) * discount_factor * max_q       # 즉각적인 리워드 + 다음스테이트 Max Q Value            \n",
    "            \n",
    "            target = target_model.model.predict(states) # 현재 State 에서 얻은 Q - Value\n",
    "            \n",
    "            \n",
    "            # 현재 State 에서 얻은 Q - Value 값이 있음\n",
    "            # 현재 Action이 Mamery에 저장되어 있고, 그 Action으로 인한 Next State 가 저장되어 있음\n",
    "            # Q - Value 값은 즉각적으로 얻을 수 있는 Reward + DisCount_Factor * Max_Q\n",
    "        \n",
    "            update_rate = 0.3 # Q-Value 업데이트 비율\n",
    "            \n",
    "            # Q - Value 업데이트는 현재 State에서 현재 Action에 의해 발생하는 것이므로, 해당 Action의 Target만 수정\n",
    "            # 원래 값에서 update_rate 비율 만큼 씩 업데이트\n",
    "            for idx in range(len(target)) :\n",
    "                target[idx][actions[idx]] = (1-update_rate)*target[idx][actions[idx]] + update_rate*update_val[idx]\n",
    "            \n",
    "            # model update \n",
    "            model.model.fit(states, target, batch_size = batch_size, verbose=0)\n",
    "            # >> 이 부분을 잘 이해해 보자 End <<\n",
    "                 \n",
    "            \n",
    "    # 하나의 에피소드가 끝나면\n",
    "    if done :\n",
    "        # 타겟 모델의 가중치 업데이트\n",
    "        target_model.model.set_weights(model.model.get_weights())\n",
    "\n",
    "        score_avg = 0.9 * score_avg + 0.1 * score if score_avg != 0 else score\n",
    "        \n",
    "        if (e+1)%(num_episode/10) == 0 :\n",
    "            print(f'episode : {e+1} / score avg : {score_avg:.2f} / memory length : {len(memory)} / epsilon : {epsilon:.4f}')\n",
    "\n",
    "        scores.append(score_avg)\n",
    "        episodes.append(e)"
   ]
  },
  {
   "cell_type": "code",
   "execution_count": 11,
   "metadata": {},
   "outputs": [
    {
     "data": {
      "text/plain": [
       "Text(0, 0.5, 'average score')"
      ]
     },
     "execution_count": 11,
     "metadata": {},
     "output_type": "execute_result"
    },
    {
     "data": {
      "image/png": "[encoded data removed]",
      "text/plain": [
       "<Figure size 1512x504 with 1 Axes>"
      ]
     },
     "metadata": {
      "needs_background": "light"
     },
     "output_type": "display_data"
    }
   ],
   "source": [
    "# plot\n",
    "fig, ax = plt.subplots(1,1, figsize = (21,7))\n",
    "\n",
    "sns.lineplot(episodes, scores, ax = ax)\n",
    "ax.set_xlabel(\"episode\")\n",
    "ax.set_ylabel('average score')"
   ]
  },
  {
   "cell_type": "code",
   "execution_count": 12,
   "metadata": {},
   "outputs": [],
   "source": [
    "# Model Save\n",
    "save_dir = 'C:/Users/begas/DQN_Model'\n",
    "os.makedirs(save_dir, exist_ok=True)\n",
    "model_name = 'keras_dqn_trained_model.h5'\n",
    "\n",
    "# Save model and weights\n",
    "model_path = os.path.join(save_dir, model_name)\n",
    "model.model.save(model_path)"
   ]
  }
 ],
 "metadata": {
  "kernelspec": {
   "display_name": "Python 3",
   "language": "python",
   "name": "python3"
  },
  "language_info": {
   "codemirror_mode": {
    "name": "ipython",
    "version": 3
   },
   "file_extension": ".py",
   "mimetype": "text/x-python",
   "name": "python",
   "nbconvert_exporter": "python",
   "pygments_lexer": "ipython3",
   "version": "3.7.4"
  }
 },
 "nbformat": 4,
 "nbformat_minor": 4
}
